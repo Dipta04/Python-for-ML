{
 "cells": [
  {
   "cell_type": "code",
   "execution_count": 1,
   "id": "03941002",
   "metadata": {},
   "outputs": [
    {
     "name": "stdout",
     "output_type": "stream",
     "text": [
      "OFF\n"
     ]
    }
   ],
   "source": [
    "inp = input()\n",
    "number = inp.split()\n",
    "brightness = float(number[0])\n",
    "threshold = float(number[1])\n",
    "\n",
    "if (brightness >= threshold):\n",
    "  print(\"ON\")\n",
    "else:\n",
    "  print(\"OFF\")"
   ]
  },
  {
   "cell_type": "code",
   "execution_count": 2,
   "id": "8eb6650a",
   "metadata": {},
   "outputs": [
    {
     "name": "stdout",
     "output_type": "stream",
     "text": [
      "0.00\n"
     ]
    }
   ],
   "source": [
    "inp = input()\n",
    "number = inp.split()\n",
    "x = float(number[0])\n",
    "min_v = float(number[1])\n",
    "max_v = float(number[2])\n",
    "\n",
    "norm = (x - min_v) / (max_v - min_v)\n",
    "\n",
    "print(f\"{norm:.2f}\")"
   ]
  },
  {
   "cell_type": "code",
   "execution_count": 3,
   "id": "fda3b0ae",
   "metadata": {},
   "outputs": [
    {
     "name": "stdout",
     "output_type": "stream",
     "text": [
      "PASS\n"
     ]
    }
   ],
   "source": [
    "N = int(input())\n",
    "target = float(input())\n",
    "sum = 0\n",
    "\n",
    "for i in range(N):\n",
    "  loss = float(input())\n",
    "  sum = sum + loss\n",
    "\n",
    "average = sum / N\n",
    "if(average <= target):\n",
    "  print(\"PASS\")\n",
    "else:\n",
    "  print(\"RETRY\")"
   ]
  },
  {
   "cell_type": "code",
   "execution_count": 4,
   "id": "d1e4d951",
   "metadata": {},
   "outputs": [
    {
     "name": "stdout",
     "output_type": "stream",
     "text": [
      "ACCEPT\n"
     ]
    }
   ],
   "source": [
    "N = int(input())\n",
    "yes_count = 0\n",
    "no_count = 0\n",
    "for i in range(N):\n",
    "  inp = input()\n",
    "  if inp == \"YES\":\n",
    "    yes_count += 1\n",
    "  if inp == \"NO\":\n",
    "    no_count+= 1\n",
    "\n",
    "if(yes_count >= no_count):\n",
    "  print(\"ACCEPT\")\n",
    "else:\n",
    "  print(\"REJECT\")"
   ]
  },
  {
   "cell_type": "code",
   "execution_count": 5,
   "id": "72b54456",
   "metadata": {},
   "outputs": [
    {
     "name": "stdout",
     "output_type": "stream",
     "text": [
      "Neutral Mood\n"
     ]
    }
   ],
   "source": [
    "sentance = input()\n",
    "split_sentance = sentance.split()\n",
    "happy_words = [\"happy\", \"joy\", \"smile\"]\n",
    "sad_words = [\"sad\", \"cry\", \"angry\"]\n",
    "\n",
    "mood_found = False\n",
    "\n",
    "for word in split_sentance:\n",
    "  if word in happy_words:\n",
    "    print(\"Happy Mood\")\n",
    "    mood_found = True\n",
    "    break\n",
    "\n",
    "  elif word in sad_words:\n",
    "    print(\"Sad Mood\")\n",
    "    mood_found = True\n",
    "    break\n",
    "\n",
    "if not mood_found:\n",
    "  print(\"Neutral Mood\")\n"
   ]
  },
  {
   "cell_type": "code",
   "execution_count": 6,
   "id": "ee799209",
   "metadata": {},
   "outputs": [
    {
     "name": "stdout",
     "output_type": "stream",
     "text": [
      "Normal Image\n"
     ]
    }
   ],
   "source": [
    "numbers = input()\n",
    "brightness = numbers.split()\n",
    "sum = 0\n",
    "\n",
    "for value in brightness:\n",
    "  int_value = int(value)\n",
    "  sum = sum + int_value\n",
    "\n",
    "average = sum / len(brightness)\n",
    "\n",
    "if(average < 85):\n",
    "  print(\"Dark Image\")\n",
    "\n",
    "elif(85 <= average <= 170):\n",
    "  print(\"Normal Image\")\n",
    "\n",
    "elif(average > 170):\n",
    "  print(\"Bright Image\")"
   ]
  },
  {
   "cell_type": "code",
   "execution_count": 7,
   "id": "c5d2c6bc",
   "metadata": {},
   "outputs": [
    {
     "name": "stdout",
     "output_type": "stream",
     "text": [
      "Fair Model\n"
     ]
    }
   ],
   "source": [
    "inp = input()\n",
    "values = inp.split()\n",
    "A_count = 0\n",
    "B_count = 0\n",
    "Total_count = 0\n",
    "\n",
    "for value in values:\n",
    "  if value == 'A':\n",
    "    A_count = A_count + 1\n",
    "  if value == 'B':\n",
    "    B_count = B_count + 1\n",
    "\n",
    "Total_count = A_count + B_count\n",
    "\n",
    "percentage_A = (A_count/Total_count)*100\n",
    "percentage_B = (B_count/Total_count)*100\n",
    "\n",
    "if(percentage_A > 70 or percentage_B > 70):\n",
    "  print(\"Biased Model\")\n",
    "else:\n",
    "  print(\"Fair Model\")"
   ]
  },
  {
   "cell_type": "code",
   "execution_count": 8,
   "id": "9a98cdc7",
   "metadata": {},
   "outputs": [
    {
     "name": "stdout",
     "output_type": "stream",
     "text": [
      "Not AI Related\n"
     ]
    }
   ],
   "source": [
    "sentance = input()\n",
    "split_sentance = sentance.split()\n",
    "ai_words = [\"ai\", \"data\", \"model\", \"learn\", \"train\", \"neural\"]\n",
    "count_ai_words = 0\n",
    "\n",
    "for value in split_sentance:\n",
    "  if value in ai_words:\n",
    "    count_ai_words = count_ai_words + 1\n",
    "\n",
    "\n",
    "if(count_ai_words >= 2):\n",
    "  print(\"AI Detected\")\n",
    "else:\n",
    "  print(\"Not AI Related\")"
   ]
  }
 ],
 "metadata": {
  "kernelspec": {
   "display_name": "base",
   "language": "python",
   "name": "python3"
  },
  "language_info": {
   "codemirror_mode": {
    "name": "ipython",
    "version": 3
   },
   "file_extension": ".py",
   "mimetype": "text/x-python",
   "name": "python",
   "nbconvert_exporter": "python",
   "pygments_lexer": "ipython3",
   "version": "3.13.5"
  }
 },
 "nbformat": 4,
 "nbformat_minor": 5
}

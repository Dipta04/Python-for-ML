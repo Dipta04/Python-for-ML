{
 "cells": [
  {
   "cell_type": "code",
   "execution_count": 1,
   "id": "ab0120d1",
   "metadata": {},
   "outputs": [
    {
     "name": "stdout",
     "output_type": "stream",
     "text": [
      "1 1\n"
     ]
    }
   ],
   "source": [
    "N = int(input())\n",
    "values = list(map(int, input().split()))\n",
    "\n",
    "min_value = min(values)\n",
    "min_index = values.index(min_value) + 1\n",
    "\n",
    "print(min_value, min_index)"
   ]
  },
  {
   "cell_type": "code",
   "execution_count": 3,
   "id": "98cade01",
   "metadata": {},
   "outputs": [
    {
     "name": "stdout",
     "output_type": "stream",
     "text": [
      "4 10 3 1 8\n"
     ]
    }
   ],
   "source": [
    "N = int(input())\n",
    "values = []\n",
    "\n",
    "Line = input().split()\n",
    "\n",
    "for value in Line:\n",
    "  values.append(int(value))\n",
    "\n",
    "min_value = min(values)\n",
    "max_value = max(values)\n",
    "\n",
    "min_index = values.index(min_value)\n",
    "max_index = values.index(max_value)\n",
    "\n",
    "values[min_index] = max_value\n",
    "values[max_index] = min_value\n",
    "\n",
    "print(*values)"
   ]
  },
  {
   "cell_type": "code",
   "execution_count": 4,
   "id": "a7973d9e",
   "metadata": {},
   "outputs": [
    {
     "name": "stdout",
     "output_type": "stream",
     "text": [
      "12\n"
     ]
    }
   ],
   "source": [
    "N = int(input())\n",
    "values = input()\n",
    "\n",
    "sum = 0\n",
    "\n",
    "for value in values:\n",
    "  sum = sum + int(value)\n",
    "\n",
    "print(sum)"
   ]
  },
  {
   "cell_type": "code",
   "execution_count": 5,
   "id": "8440ff77",
   "metadata": {},
   "outputs": [
    {
     "name": "stdout",
     "output_type": "stream",
     "text": [
      "Bad\n",
      "Good\n"
     ]
    }
   ],
   "source": [
    "N = int(input())\n",
    "\n",
    "for value in range(N):\n",
    "  s = input()\n",
    "  if \"010\" in s or \"101\" in s:\n",
    "    print(\"Good\")\n",
    "  else:\n",
    "    print(\"Bad\")"
   ]
  },
  {
   "cell_type": "code",
   "execution_count": 6,
   "id": "5469cc6c",
   "metadata": {},
   "outputs": [
    {
     "name": "stdout",
     "output_type": "stream",
     "text": [
      "BRITISH GHANA\n"
     ]
    }
   ],
   "source": [
    "s = input()\n",
    "\n",
    "result = s.replace(\"EGYPT\", \" \")\n",
    "\n",
    "print(result)"
   ]
  }
 ],
 "metadata": {
  "kernelspec": {
   "display_name": "Python 3",
   "language": "python",
   "name": "python3"
  },
  "language_info": {
   "codemirror_mode": {
    "name": "ipython",
    "version": 3
   },
   "file_extension": ".py",
   "mimetype": "text/x-python",
   "name": "python",
   "nbconvert_exporter": "python",
   "pygments_lexer": "ipython3",
   "version": "3.13.7"
  }
 },
 "nbformat": 4,
 "nbformat_minor": 5
}

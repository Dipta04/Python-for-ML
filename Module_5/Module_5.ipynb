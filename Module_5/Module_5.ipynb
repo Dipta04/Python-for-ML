{
 "cells": [
  {
   "cell_type": "markdown",
   "id": "85f429c4",
   "metadata": {},
   "source": [
    "### Tuples"
   ]
  },
  {
   "cell_type": "code",
   "execution_count": 1,
   "id": "6ba122aa",
   "metadata": {},
   "outputs": [
    {
     "name": "stdout",
     "output_type": "stream",
     "text": [
      "<class 'tuple'> (10, 20, 30)\n"
     ]
    }
   ],
   "source": [
    "# declaration \n",
    "\n",
    "tup = (10,20,30,40) \n",
    "\n",
    "float_tup = (10.5,10.2)\n",
    "mixed_tup = (10 , 10.5 , \"str\", True) \n",
    "\n",
    "\n",
    "lst = [10,20,30]\n",
    "\n",
    "tup1 = tuple(lst)\n",
    "\n",
    "print(type(tup1), tup1)"
   ]
  },
  {
   "cell_type": "code",
   "execution_count": 2,
   "id": "bc12a513",
   "metadata": {},
   "outputs": [
    {
     "name": "stdout",
     "output_type": "stream",
     "text": [
      "10.5\n",
      "(10, 20, 30)\n"
     ]
    }
   ],
   "source": [
    "# Access \n",
    "tup = ( 10 , 20 , 30 , 10.5 , \"str\" , False )\n",
    "\n",
    "#index \n",
    "print(tup[3]) \n",
    "\n",
    "# slicing \n",
    "\n",
    "new_tup = tup[0:3]\n",
    "print(new_tup)"
   ]
  },
  {
   "cell_type": "code",
   "execution_count": 3,
   "id": "445ca656",
   "metadata": {},
   "outputs": [
    {
     "name": "stdout",
     "output_type": "stream",
     "text": [
      "[10, 100, 30, 40, 60]\n"
     ]
    },
    {
     "ename": "TypeError",
     "evalue": "'tuple' object does not support item assignment",
     "output_type": "error",
     "traceback": [
      "\u001b[31m---------------------------------------------------------------------------\u001b[39m",
      "\u001b[31mTypeError\u001b[39m                                 Traceback (most recent call last)",
      "\u001b[36mCell\u001b[39m\u001b[36m \u001b[39m\u001b[32mIn[3]\u001b[39m\u001b[32m, line 10\u001b[39m\n\u001b[32m      8\u001b[39m \u001b[38;5;66;03m# immutable\u001b[39;00m\n\u001b[32m      9\u001b[39m tup= ( \u001b[32m10\u001b[39m , \u001b[32m20\u001b[39m , \u001b[32m30\u001b[39m , \u001b[32m40\u001b[39m ) \n\u001b[32m---> \u001b[39m\u001b[32m10\u001b[39m \u001b[43mtup\u001b[49m\u001b[43m[\u001b[49m\u001b[32;43m1\u001b[39;49m\u001b[43m]\u001b[49m= \u001b[32m100\u001b[39m \n\u001b[32m     11\u001b[39m \u001b[38;5;28mprint\u001b[39m(tup) \n",
      "\u001b[31mTypeError\u001b[39m: 'tuple' object does not support item assignment"
     ]
    }
   ],
   "source": [
    "# mutable\n",
    "\n",
    "lst = [ 10 , 20 , 30 , 40 ] \n",
    "lst.append(60)\n",
    "lst[1] = 100\n",
    "print(lst)\n",
    "\n",
    "# immutable\n",
    "tup= ( 10 , 20 , 30 , 40 ) \n",
    "tup[1]= 100 \n",
    "print(tup) "
   ]
  },
  {
   "cell_type": "code",
   "execution_count": 4,
   "id": "2137bd27",
   "metadata": {},
   "outputs": [
    {
     "name": "stdout",
     "output_type": "stream",
     "text": [
      "3\n",
      "3\n"
     ]
    }
   ],
   "source": [
    "# tuple method \n",
    "tup= ( 10 , 20 , 30 , 40 , 10 , 20 , 30 ,10 )\n",
    "\n",
    "print(tup.count(10))\n",
    "print(tup.index(40))"
   ]
  },
  {
   "cell_type": "markdown",
   "id": "21221460",
   "metadata": {},
   "source": [
    "### Set"
   ]
  },
  {
   "cell_type": "code",
   "execution_count": 5,
   "id": "ab390738",
   "metadata": {},
   "outputs": [
    {
     "name": "stdout",
     "output_type": "stream",
     "text": [
      "<class 'set'> {1, 2, 3}\n"
     ]
    }
   ],
   "source": [
    "A = { 1, 2 , 3 } \n",
    "\n",
    "print(type(A) , A )"
   ]
  },
  {
   "cell_type": "code",
   "execution_count": 6,
   "id": "c9db9364",
   "metadata": {},
   "outputs": [
    {
     "name": "stdout",
     "output_type": "stream",
     "text": [
      "<class 'list'>\n",
      "<class 'tuple'>\n",
      "<class 'set'>\n"
     ]
    }
   ],
   "source": [
    "## empty structures \n",
    "B = [] \n",
    "\n",
    "print(type(B)) \n",
    "\n",
    "C= () \n",
    "\n",
    "print(type(C))\n",
    "\n",
    "\n",
    "S = set()\n",
    "\n",
    "print(type(S))"
   ]
  },
  {
   "cell_type": "code",
   "execution_count": 7,
   "id": "c1cb9712",
   "metadata": {},
   "outputs": [
    {
     "name": "stdout",
     "output_type": "stream",
     "text": [
      "not present\n",
      "10\n"
     ]
    }
   ],
   "source": [
    "#accessing \n",
    "\n",
    "S= { 1 ,2 ,3 , 4 ,1 ,2 } \n",
    "\n",
    "if (10 in S):\n",
    "    print(\"3 is present\")\n",
    "else:\n",
    "    print(\"not present\")\n",
    "\n",
    "sum =0 \n",
    "\n",
    "for element in S:\n",
    "    sum+= element \n",
    "\n",
    "print(sum)"
   ]
  },
  {
   "cell_type": "code",
   "execution_count": 8,
   "id": "23abafcc",
   "metadata": {},
   "outputs": [
    {
     "name": "stdout",
     "output_type": "stream",
     "text": [
      "{0, 1, 2, 3, 4, 5, 10}\n",
      "{2, 3, 4, 5, 10}\n",
      "{2, 3, 4, 10}\n"
     ]
    }
   ],
   "source": [
    "#mutable\n",
    "\n",
    "s= {5, 1 , 2 ,4, 3} \n",
    "\n",
    "s.add(10) \n",
    "s.add(0)\n",
    "\n",
    "print(s)\n",
    "\n",
    "s.pop()\n",
    "s.pop()\n",
    "print(s)\n",
    "\n",
    "s.remove(5) \n",
    "\n",
    "print(s)"
   ]
  },
  {
   "cell_type": "markdown",
   "id": "3843da73",
   "metadata": {},
   "source": [
    "### Set Mathematical Methods"
   ]
  },
  {
   "cell_type": "code",
   "execution_count": 9,
   "id": "7be93bcc",
   "metadata": {},
   "outputs": [
    {
     "name": "stdout",
     "output_type": "stream",
     "text": [
      "{1, 2, 3, 4, 5, 6}\n",
      "{1, 2}\n",
      "False\n",
      "False\n"
     ]
    }
   ],
   "source": [
    "a = { 1, 2, 3 } \n",
    "b = {1, 2 , 5,6, 4 } \n",
    "\n",
    "print( a.union(b) )\n",
    "\n",
    "print(a.intersection(b)) \n",
    "\n",
    "\n",
    "print(a.isdisjoint(b)) \n",
    "\n",
    "\n",
    "print(a.issubset(b)) "
   ]
  },
  {
   "cell_type": "markdown",
   "id": "dee36471",
   "metadata": {},
   "source": [
    "### Dictionaries in Python"
   ]
  },
  {
   "cell_type": "code",
   "execution_count": 10,
   "id": "2b84ad41",
   "metadata": {},
   "outputs": [
    {
     "name": "stdout",
     "output_type": "stream",
     "text": [
      "<class 'dict'>\n",
      "<class 'dict'> {'name': 'Phitron', 'age': 20, 'address': 'Dhaka', 'numbers': [10, 20, 30]}\n"
     ]
    }
   ],
   "source": [
    "# empty \n",
    "dic = {}\n",
    "print(type(dic))\n",
    "\n",
    "dic ={ \"name\" : \"Phitron\" , \"age\": 20 , \"address\" : \"Dhaka\" , \"numbers\":[10,20,30]} \n",
    "\n",
    "print(type(dic) , dic) "
   ]
  },
  {
   "cell_type": "code",
   "execution_count": 11,
   "id": "cc7aaef8",
   "metadata": {},
   "outputs": [
    {
     "name": "stdout",
     "output_type": "stream",
     "text": [
      "[10, 20, 30]\n",
      "20\n",
      "{'name': 'Phitron', 'age': 30, 'address': 'Dhaka', 'numbers': [10, 20, 30]}\n"
     ]
    }
   ],
   "source": [
    "# access \n",
    "# dic_name[key]\n",
    "\n",
    "print(dic[\"numbers\"])\n",
    "print( dic.get(\"age\"))\n",
    "\n",
    "\n",
    "dic[\"name\"] = \"Phitron AI/ML\" \n",
    "\n",
    "dic ={ \"name\" : \"Phitron\" , \"age\": 20 , \"address\" : \"Dhaka\" , \"numbers\":[10,20,30],\"age\":30}\n",
    "print(dic) "
   ]
  },
  {
   "cell_type": "code",
   "execution_count": 12,
   "id": "ee1eacde",
   "metadata": {},
   "outputs": [
    {
     "name": "stdout",
     "output_type": "stream",
     "text": [
      "{'name': 'Phitron', 'age': 30, 'address': 'Dhaka', 'numbers': [10, 20, 30]}\n",
      "None\n",
      "0\n"
     ]
    }
   ],
   "source": [
    "#printing default values\n",
    "print(dic) \n",
    "\n",
    "print(dic.get(\"math_marks\"))\n",
    "print(dic.get(\"math_marks\",0))"
   ]
  },
  {
   "cell_type": "code",
   "execution_count": 13,
   "id": "80548976",
   "metadata": {},
   "outputs": [
    {
     "name": "stdout",
     "output_type": "stream",
     "text": [
      "{'name': 'Phitron', 'age': 30, 'address': 'Dhaka', 'numbers': [10, 20, 30]}\n",
      "{'name': 'Phitron', 'age': 30, 'address': 'Dhaka', 'numbers': [10, 20, 30], 'math_marks': 30}\n",
      "{'name': 'Phitron', 'age': 30, 'address': 'Dhaka', 'numbers': [10, 20, 30], 'math_marks': 30, 'english_marks': 40}\n"
     ]
    }
   ],
   "source": [
    "# adding a value\n",
    "\n",
    "dic ={ \"name\" : \"Phitron\" , \"age\": 20 , \"address\" : \"Dhaka\" , \"numbers\":[10,20,30],\"age\":30}\n",
    "\n",
    "print(dic)\n",
    "dic[\"math_marks\"]= 30 \n",
    "print(dic) \n",
    "dic.update({\"english_marks\": 40}) \n",
    "\n",
    "print(dic) "
   ]
  },
  {
   "cell_type": "code",
   "execution_count": 14,
   "id": "78c0545b",
   "metadata": {},
   "outputs": [
    {
     "name": "stdout",
     "output_type": "stream",
     "text": [
      "{'name': 'Phitron', 'age': 30, 'address': 'Dhaka', 'numbers': [10, 20, 30], 'english_marks': 40}\n"
     ]
    }
   ],
   "source": [
    "# deleting \n",
    "\n",
    "del dic[\"math_marks\"]\n",
    "print(dic) "
   ]
  },
  {
   "cell_type": "code",
   "execution_count": 15,
   "id": "d573c5e5",
   "metadata": {},
   "outputs": [
    {
     "name": "stdout",
     "output_type": "stream",
     "text": [
      "{'name': 'Phitron', 'age': 30, 'address': 'Dhaka', 'numbers': [10, 20, 30], 'english_marks': 40}\n"
     ]
    }
   ],
   "source": [
    "dic_2=dic.copy()\n",
    "print(dic_2)"
   ]
  },
  {
   "cell_type": "code",
   "execution_count": 16,
   "id": "735b326d",
   "metadata": {},
   "outputs": [
    {
     "ename": "TypeError",
     "evalue": "unhashable type: 'dict'",
     "output_type": "error",
     "traceback": [
      "\u001b[31m---------------------------------------------------------------------------\u001b[39m",
      "\u001b[31mTypeError\u001b[39m                                 Traceback (most recent call last)",
      "\u001b[36mCell\u001b[39m\u001b[36m \u001b[39m\u001b[32mIn[16]\u001b[39m\u001b[32m, line 3\u001b[39m\n\u001b[32m      1\u001b[39m \u001b[38;5;66;03m# testing \u001b[39;00m\n\u001b[32m----> \u001b[39m\u001b[32m3\u001b[39m dic_3 = { {\u001b[33m\"\u001b[39m\u001b[33mname\u001b[39m\u001b[33m\"\u001b[39m : \u001b[33m\"\u001b[39m\u001b[33madil\u001b[39m\u001b[33m\"\u001b[39m , \u001b[33m\"\u001b[39m\u001b[33mage\u001b[39m\u001b[33m\"\u001b[39m :\u001b[32m20\u001b[39m} : \u001b[32m20\u001b[39m }\n\u001b[32m      4\u001b[39m \u001b[38;5;28mprint\u001b[39m(dic_3) \n",
      "\u001b[31mTypeError\u001b[39m: unhashable type: 'dict'"
     ]
    }
   ],
   "source": [
    "# testing \n",
    "\n",
    "dic_3 = { {\"name\" : \"adil\" , \"age\" :20} : 20 }\n",
    "print(dic_3) "
   ]
  },
  {
   "cell_type": "markdown",
   "id": "a603a663",
   "metadata": {},
   "source": [
    "### Iterating over Dictionary"
   ]
  },
  {
   "cell_type": "code",
   "execution_count": 17,
   "id": "b0304c61",
   "metadata": {},
   "outputs": [
    {
     "name": "stdout",
     "output_type": "stream",
     "text": [
      "dict_keys(['name', 'age', 'address', 'numbers'])\n",
      "dict_keys(['name', 'age', 'address', 'numbers', 'math_numebers'])\n",
      "dict_values(['Phitron', 30, 'Dhaka', [10, 20, 30], 30])\n",
      "dict_values(['Phitron', 30, 'Dhaka', [10, 20, 30], 40])\n",
      "dict_items([('name', 'Phitron'), ('age', 30), ('address', 'Dhaka'), ('numbers', [10, 20, 30]), ('math_numebers', 40)])\n"
     ]
    }
   ],
   "source": [
    "dic ={ \"name\" : \"Phitron\" , \"age\": 20 , \"address\" : \"Dhaka\" , \"numbers\":[10,20,30],\"age\":30}\n",
    "\n",
    "keys = dic.keys()\n",
    "\n",
    "print(keys)\n",
    "\n",
    "dic[\"math_numebers\"] = 30 \n",
    "\n",
    "print(keys) \n",
    "\n",
    "values = dic.values() \n",
    "\n",
    "print(values) \n",
    "\n",
    "dic[\"math_numebers\"] = 40 \n",
    "print(values) \n",
    "\n",
    "items = dic.items() \n",
    "\n",
    "print(items)"
   ]
  },
  {
   "cell_type": "code",
   "execution_count": 18,
   "id": "a44d28e0",
   "metadata": {},
   "outputs": [
    {
     "name": "stdout",
     "output_type": "stream",
     "text": [
      "name Phitron\n",
      "age 30\n",
      "address Dhaka\n",
      "numbers [10, 20, 30]\n",
      "math_numebers 40\n"
     ]
    }
   ],
   "source": [
    "# iteration \n",
    "for key,value in dic.items():\n",
    "    print(key,value)"
   ]
  },
  {
   "cell_type": "markdown",
   "id": "11b214f0",
   "metadata": {},
   "source": [
    "### Dictionary Comprehension"
   ]
  },
  {
   "cell_type": "code",
   "execution_count": 19,
   "id": "5c6d0ff5",
   "metadata": {},
   "outputs": [
    {
     "name": "stdout",
     "output_type": "stream",
     "text": [
      "{2: 4, 4: 16, 6: 36, 8: 64, 10: 100}\n"
     ]
    }
   ],
   "source": [
    "square = {x:x**2  for x in range(1,11) if x%2==0}\n",
    "\n",
    "print(square)"
   ]
  },
  {
   "cell_type": "code",
   "execution_count": 20,
   "id": "20a396f7",
   "metadata": {},
   "outputs": [
    {
     "name": "stdout",
     "output_type": "stream",
     "text": [
      "{(10, 10.5): 'dhaka', (20.5, 192): 'chattogram', (101, 102): 'sylhet'}\n"
     ]
    }
   ],
   "source": [
    "Co_ordinates = [(10,10.5),(20.5,192) , ( 101,102) ]\n",
    "Locations =[\"dhaka\" , \"chattogram\" , \"sylhet\"]\n",
    "\n",
    "exact_location = {co_or : loc for co_or, loc in zip(Co_ordinates,Locations)}\n",
    "\n",
    "print(exact_location) "
   ]
  },
  {
   "cell_type": "markdown",
   "id": "a1b42f67",
   "metadata": {},
   "source": [
    "### Problem Solving with In Built Structures"
   ]
  },
  {
   "cell_type": "markdown",
   "id": "05cf058c",
   "metadata": {},
   "source": [
    "##### 1. Given a list of numbers, make a list with unique values."
   ]
  },
  {
   "cell_type": "code",
   "execution_count": 21,
   "id": "a7553bf9",
   "metadata": {},
   "outputs": [
    {
     "name": "stdout",
     "output_type": "stream",
     "text": [
      "[10, 20, 50, 30]\n"
     ]
    }
   ],
   "source": [
    "lst = [10 , 20 , 10 , 30 , 30 , 50 , 30 , 10 , 20 , 10 , 10 ]\n",
    "\n",
    "unique_values = set(lst) ## conversion\n",
    "\n",
    "lst = list(unique_values) \n",
    "\n",
    "print(lst) "
   ]
  },
  {
   "cell_type": "markdown",
   "id": "5be73e19",
   "metadata": {},
   "source": [
    "##### 2. Given a string , print the frequency of the words"
   ]
  },
  {
   "cell_type": "code",
   "execution_count": 22,
   "id": "c423b22b",
   "metadata": {},
   "outputs": [
    {
     "name": "stdout",
     "output_type": "stream",
     "text": [
      "count of data is 9\n",
      "count of science is 1\n",
      "count of machine is 3\n",
      "count of learning is 2\n",
      "count of analysis is 1\n",
      "count of statistics is 1\n",
      "count of models is 2\n",
      "count of training is 1\n",
      "count of validation is 2\n",
      "count of features is 2\n",
      "count of labels is 1\n",
      "count of preprocessing is 1\n",
      "count of augmentation is 1\n",
      "count of optimization is 1\n",
      "count of gradient is 1\n",
      "count of descent is 1\n",
      "count of neural is 1\n",
      "count of networks is 1\n",
      "count of tensors is 1\n",
      "count of matrices is 1\n",
      "count of visualization is 1\n",
      "count of exploration is 1\n",
      "count of pandas is 1\n",
      "count of numpy is 1\n",
      "count of matplotlib is 1\n",
      "count of seaborn is 1\n",
      "count of scikitlearn is 1\n",
      "count of tensorflow is 1\n",
      "count of pytorch is 1\n",
      "count of deployment is 1\n",
      "count of inference is 1\n",
      "count of production is 1\n",
      "count of monitoring is 1\n",
      "count of reproducibility is 1\n",
      "count of experiments is 1\n",
      "count of results is 1\n",
      "count of metrics is 1\n",
      "count of accuracy is 1\n",
      "count of precision is 1\n",
      "count of recall is 1\n",
      "count of f1 is 1\n",
      "count of cross is 1\n"
     ]
    }
   ],
   "source": [
    "string = \"\"\"data science machine learning data analysis machine \n",
    "learning statistics data models data training data validation features\n",
    "features labels preprocessing data augmentation models data optimization \n",
    "gradient descent neural networks data tensors matrices visualization \n",
    "exploration pandas numpy matplotlib seaborn scikitlearn tensorflow pytorch \n",
    "deployment inference production monitoring reproducibility experiments results \n",
    "metrics accuracy precision recall f1 cross validation data machine\n",
    "\"\"\"\n",
    "\n",
    "words = string.split()\n",
    "\n",
    "count = {} \n",
    "\n",
    "\n",
    "for word in words:\n",
    "    count[word]= count.get(word,0) +1  \n",
    "\n",
    "for k,v in count.items():\n",
    "    print(f\"count of {k} is {v}\")"
   ]
  },
  {
   "cell_type": "code",
   "execution_count": null,
   "id": "acc58a21",
   "metadata": {},
   "outputs": [],
   "source": []
  }
 ],
 "metadata": {
  "kernelspec": {
   "display_name": "Python 3",
   "language": "python",
   "name": "python3"
  },
  "language_info": {
   "codemirror_mode": {
    "name": "ipython",
    "version": 3
   },
   "file_extension": ".py",
   "mimetype": "text/x-python",
   "name": "python",
   "nbconvert_exporter": "python",
   "pygments_lexer": "ipython3",
   "version": "3.13.7"
  }
 },
 "nbformat": 4,
 "nbformat_minor": 5
}

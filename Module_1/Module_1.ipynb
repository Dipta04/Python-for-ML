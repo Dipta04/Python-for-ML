{
 "cells": [
  {
   "cell_type": "markdown",
   "id": "1b700d81",
   "metadata": {},
   "source": [
    "## Variables and Data Type"
   ]
  },
  {
   "cell_type": "code",
   "execution_count": 1,
   "id": "2e5defc9",
   "metadata": {},
   "outputs": [
    {
     "name": "stdout",
     "output_type": "stream",
     "text": [
      "456249\n"
     ]
    }
   ],
   "source": [
    "phone_number = 456249 \n",
    "\n",
    "print(phone_number)"
   ]
  },
  {
   "cell_type": "code",
   "execution_count": 2,
   "id": "f2261dd7",
   "metadata": {},
   "outputs": [
    {
     "name": "stdout",
     "output_type": "stream",
     "text": [
      "Phitron\n"
     ]
    }
   ],
   "source": [
    "name = \"Phitron\"\n",
    "\n",
    "print(name)"
   ]
  },
  {
   "cell_type": "code",
   "execution_count": 4,
   "id": "e1b670bc",
   "metadata": {},
   "outputs": [
    {
     "name": "stdout",
     "output_type": "stream",
     "text": [
      "<class 'int'> <class 'float'> <class 'str'> <class 'bool'>\n",
      "<class 'float'>\n"
     ]
    }
   ],
   "source": [
    "age = 20\n",
    "height = 5.6\n",
    "name = \"Akash\"\n",
    "is_passed = True\n",
    "\n",
    "print(type(age), type(height), type(name), type(is_passed))\n",
    "\n",
    "age = 20.5\n",
    "\n",
    "print(type(age))"
   ]
  },
  {
   "cell_type": "markdown",
   "id": "09eb2504",
   "metadata": {},
   "source": [
    "## Taking Input in Python"
   ]
  },
  {
   "cell_type": "code",
   "execution_count": 2,
   "id": "f2f66ac8",
   "metadata": {},
   "outputs": [
    {
     "name": "stdout",
     "output_type": "stream",
     "text": [
      "Phitron\n"
     ]
    }
   ],
   "source": [
    "name = input(\"What is your name? \")\n",
    "\n",
    "print(name)"
   ]
  },
  {
   "cell_type": "code",
   "execution_count": 6,
   "id": "c26816c8",
   "metadata": {},
   "outputs": [
    {
     "name": "stdout",
     "output_type": "stream",
     "text": [
      "20 <class 'str'>\n"
     ]
    }
   ],
   "source": [
    "age = input(\"Age ?\")\n",
    "\n",
    "print(age, type(age))"
   ]
  },
  {
   "cell_type": "code",
   "execution_count": 7,
   "id": "9e91b2bc",
   "metadata": {},
   "outputs": [
    {
     "name": "stdout",
     "output_type": "stream",
     "text": [
      "20 <class 'int'>\n"
     ]
    }
   ],
   "source": [
    "age = input(\"Age ?\")\n",
    "\n",
    "age = int(age)\n",
    "\n",
    "print(age, type(age))"
   ]
  },
  {
   "cell_type": "code",
   "execution_count": null,
   "id": "97ecb124",
   "metadata": {},
   "outputs": [
    {
     "name": "stdout",
     "output_type": "stream",
     "text": [
      "20.3 <class 'str'>\n"
     ]
    }
   ],
   "source": [
    "height = input(\"Height ?\")\n",
    "\n",
    "print(height, type(height))"
   ]
  },
  {
   "cell_type": "code",
   "execution_count": 10,
   "id": "71184c46",
   "metadata": {},
   "outputs": [
    {
     "name": "stdout",
     "output_type": "stream",
     "text": [
      "20.5 <class 'float'>\n",
      "20.7\n"
     ]
    }
   ],
   "source": [
    "height = float(input(\"Height ?\"))\n",
    "\n",
    "print(height, type(height))\n",
    "\n",
    "height = height + 0.2\n",
    "\n",
    "print(height)"
   ]
  },
  {
   "cell_type": "markdown",
   "id": "557996a7",
   "metadata": {},
   "source": [
    "## Operators in Python"
   ]
  },
  {
   "cell_type": "code",
   "execution_count": null,
   "id": "622118f6",
   "metadata": {},
   "outputs": [
    {
     "name": "stdout",
     "output_type": "stream",
     "text": [
      "13 7 30 3.33 1\n"
     ]
    }
   ],
   "source": [
    "x = 10 ; y = 3\n",
    "\n",
    "sum = x + y\n",
    "sub = x - y\n",
    "mult = x * y\n",
    "div = round(x / y, 2) \n",
    "\n",
    "rem = x % y\n",
    "\n",
    "print(sum, sub, mult, div, rem)"
   ]
  },
  {
   "cell_type": "code",
   "execution_count": 17,
   "id": "3f72d717",
   "metadata": {},
   "outputs": [
    {
     "name": "stdout",
     "output_type": "stream",
     "text": [
      "True True\n",
      "False True\n",
      "False\n",
      "True\n"
     ]
    }
   ],
   "source": [
    "x = 10 ; y = 3\n",
    "\n",
    "greater_than = x > y\n",
    "\n",
    "greater_than_equal = (10 >= 10)\n",
    "\n",
    "print(greater_than, greater_than_equal)\n",
    "\n",
    "less_than = x < y\n",
    "\n",
    "less_than_equal = (10 <= 10)\n",
    "\n",
    "print(less_than, less_than_equal)\n",
    "\n",
    "equal = x == y\n",
    "\n",
    "print(equal)\n",
    "\n",
    "not_equal = x != y\n",
    "print(not_equal)"
   ]
  },
  {
   "cell_type": "markdown",
   "id": "399d6490",
   "metadata": {},
   "source": [
    "## Logical Operator\n"
   ]
  },
  {
   "cell_type": "code",
   "execution_count": 24,
   "id": "474fce3a",
   "metadata": {},
   "outputs": [
    {
     "name": "stdout",
     "output_type": "stream",
     "text": [
      "True\n"
     ]
    }
   ],
   "source": [
    "x = 10 ; y = 5 ; z = 3\n",
    "\n",
    "result = (x > y) and (x > z)\n",
    "\n",
    "print(result)"
   ]
  },
  {
   "cell_type": "code",
   "execution_count": 25,
   "id": "09fd0e3c",
   "metadata": {},
   "outputs": [
    {
     "name": "stdout",
     "output_type": "stream",
     "text": [
      "False\n"
     ]
    }
   ],
   "source": [
    "x = 10 ; y = 5 ; z = 15\n",
    "\n",
    "result = (x > y) and (x > z)\n",
    "\n",
    "print(result)"
   ]
  },
  {
   "cell_type": "code",
   "execution_count": 26,
   "id": "035a4d27",
   "metadata": {},
   "outputs": [
    {
     "name": "stdout",
     "output_type": "stream",
     "text": [
      "True\n"
     ]
    }
   ],
   "source": [
    "x = 10 ; y = 5 ; z = 15\n",
    "\n",
    "result = (x > y) or (x > z)\n",
    "\n",
    "print(result)"
   ]
  },
  {
   "cell_type": "code",
   "execution_count": 27,
   "id": "3d38ba98",
   "metadata": {},
   "outputs": [
    {
     "name": "stdout",
     "output_type": "stream",
     "text": [
      "False\n"
     ]
    }
   ],
   "source": [
    "x = 10 ; y = 20 ; z = 15\n",
    "\n",
    "result = (x > y) or (x > z)\n",
    "\n",
    "print(result)"
   ]
  },
  {
   "cell_type": "markdown",
   "id": "a0340073",
   "metadata": {},
   "source": [
    "## Precedence and Associativity"
   ]
  },
  {
   "cell_type": "code",
   "execution_count": 3,
   "id": "e78ae908",
   "metadata": {},
   "outputs": [
    {
     "name": "stdout",
     "output_type": "stream",
     "text": [
      "5.0\n",
      "0.0\n"
     ]
    }
   ],
   "source": [
    "eq = 10 + 10/2 - 5*2 # precedency maintain korbe\n",
    "print(eq)\n",
    "\n",
    "eq = (10+10)/2 - 5*2 ## ekhane bracket e part tuku ageh compute hobe \n",
    "\n",
    "print(eq)"
   ]
  },
  {
   "cell_type": "markdown",
   "id": "9d3626ec",
   "metadata": {},
   "source": [
    "## Problem : Digit Summation"
   ]
  },
  {
   "cell_type": "code",
   "execution_count": 35,
   "id": "6cd9a154",
   "metadata": {},
   "outputs": [
    {
     "name": "stdout",
     "output_type": "stream",
     "text": [
      "5\n"
     ]
    }
   ],
   "source": [
    "inp = input()\n",
    "\n",
    "numbers = inp.split()\n",
    "\n",
    "x = int(numbers[0]) \n",
    "\n",
    "y = int(numbers[1])\n",
    "\n",
    "last_digit_of_x =  x % 10\n",
    "last_digit_of_y = y % 10\n",
    "\n",
    "sum = last_digit_of_x + last_digit_of_y\n",
    "\n",
    "print(sum)"
   ]
  },
  {
   "cell_type": "code",
   "execution_count": 40,
   "id": "94189835",
   "metadata": {},
   "outputs": [
    {
     "name": "stdout",
     "output_type": "stream",
     "text": [
      "<class 'float'>\n"
     ]
    }
   ],
   "source": [
    "num = float(input())\n",
    "print(type(num))"
   ]
  }
 ],
 "metadata": {
  "kernelspec": {
   "display_name": "Python 3",
   "language": "python",
   "name": "python3"
  },
  "language_info": {
   "codemirror_mode": {
    "name": "ipython",
    "version": 3
   },
   "file_extension": ".py",
   "mimetype": "text/x-python",
   "name": "python",
   "nbconvert_exporter": "python",
   "pygments_lexer": "ipython3",
   "version": "3.13.7"
  }
 },
 "nbformat": 4,
 "nbformat_minor": 5
}

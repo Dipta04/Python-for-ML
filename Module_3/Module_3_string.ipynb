{
 "cells": [
  {
   "cell_type": "code",
   "execution_count": 1,
   "id": "d9a5bd6e",
   "metadata": {},
   "outputs": [
    {
     "name": "stdout",
     "output_type": "stream",
     "text": [
      "what is your name?\n",
      "<class 'str'>\n"
     ]
    }
   ],
   "source": [
    "#single line string \n",
    "prompt = \"what is your name?\" \n",
    "\n",
    "print(prompt)\n",
    "print(type(prompt))"
   ]
  },
  {
   "cell_type": "code",
   "execution_count": 2,
   "id": "e6dcd993",
   "metadata": {},
   "outputs": [
    {
     "name": "stdout",
     "output_type": "stream",
     "text": [
      "tell me about yourself ?\n",
      "what are the issues you've been facing while learning to code ?\n",
      "How are you tackling them ?\n",
      "\n"
     ]
    }
   ],
   "source": [
    "#multi line string\n",
    "message = \"\"\"tell me about yourself ?\n",
    "what are the issues you've been facing while learning to code ?\n",
    "How are you tackling them ?\n",
    "\"\"\"\n",
    "\n",
    "print(message)"
   ]
  },
  {
   "cell_type": "markdown",
   "id": "9603fa38",
   "metadata": {},
   "source": [
    "### Indexing and slicing"
   ]
  },
  {
   "cell_type": "code",
   "execution_count": 4,
   "id": "efc8fdc7",
   "metadata": {},
   "outputs": [
    {
     "name": "stdout",
     "output_type": "stream",
     "text": [
      "o\n"
     ]
    }
   ],
   "source": [
    "string = \"hello world\" \n",
    "\n",
    "print(string[7])"
   ]
  },
  {
   "cell_type": "code",
   "execution_count": 5,
   "id": "e932ff76",
   "metadata": {},
   "outputs": [
    {
     "name": "stdout",
     "output_type": "stream",
     "text": [
      "tell me about yourself ?\n"
     ]
    }
   ],
   "source": [
    "first_message = message[0:24]\n",
    "\n",
    "print(first_message)"
   ]
  },
  {
   "cell_type": "code",
   "execution_count": 6,
   "id": "e8ff3a84",
   "metadata": {},
   "outputs": [
    {
     "name": "stdout",
     "output_type": "stream",
     "text": [
      "?\n",
      " \n",
      "f\n",
      "l\n",
      "e\n"
     ]
    }
   ],
   "source": [
    "print(first_message[-1])\n",
    "print(first_message[-2])\n",
    "print(first_message[-3])\n",
    "print(first_message[-4])\n",
    "print(first_message[-5])"
   ]
  },
  {
   "cell_type": "code",
   "execution_count": 7,
   "id": "f546aca3",
   "metadata": {},
   "outputs": [
    {
     "name": "stdout",
     "output_type": "stream",
     "text": [
      "? flesruoy tuoba em llet\n"
     ]
    }
   ],
   "source": [
    "new_first_message = first_message[::-1]\n",
    "\n",
    "print(new_first_message)"
   ]
  },
  {
   "cell_type": "markdown",
   "id": "e355f6a5",
   "metadata": {},
   "source": [
    "### String Methods"
   ]
  },
  {
   "cell_type": "code",
   "execution_count": 8,
   "id": "4a3be3e5",
   "metadata": {},
   "outputs": [
    {
     "name": "stdout",
     "output_type": "stream",
     "text": [
      "52\n",
      "True\n",
      "Welcome to Phitron AI/ML Course , Phitron AI/ML , Hello AI/ML\n"
     ]
    }
   ],
   "source": [
    "string  = \"Welcome to Phitron ML Course , Phitron ML , Hello ML\" \n",
    "\n",
    "processed_string = string.lower()\n",
    "\n",
    "\n",
    "# length \n",
    "print(len(string))\n",
    "\n",
    "# word ase kina -> bool\n",
    "print(\"phitron\" in processed_string)\n",
    "\n",
    "# shurur kon index theke substring ta shuru hoise \n",
    "\n",
    "shuru_index = processed_string.find(\"phitron\")\n",
    "\n",
    "# shesher dike kon index theke substring ta shuru hoise \n",
    "shesh_index = processed_string.rfind(\"phitron\")\n",
    "\n",
    "\n",
    "## Substring koibar ase \n",
    "\n",
    "count = processed_string.count(\"phitron\")\n",
    "\n",
    "\n",
    "\n",
    "## replace a substring \n",
    "\n",
    "processed_string = string.replace(\"ML\", \"AI/ML\")\n",
    "\n",
    "\n",
    "print(processed_string)"
   ]
  },
  {
   "cell_type": "markdown",
   "id": "5cb8b0d1",
   "metadata": {},
   "source": [
    "### Splitting , Joining , Formatted String"
   ]
  },
  {
   "cell_type": "code",
   "execution_count": 9,
   "id": "f6f8a9cf",
   "metadata": {},
   "outputs": [
    {
     "name": "stdout",
     "output_type": "stream",
     "text": [
      "<class 'list'>\n",
      "<class 'str'>\n"
     ]
    }
   ],
   "source": [
    "prompt = \"what is Phitron ?\"\n",
    "\n",
    "tokens = prompt.split()\n",
    "\n",
    "print(type(tokens))\n",
    "\n",
    "\n",
    "sentence = \"-\".join(tokens)\n",
    "\n",
    "print(type(sentence))"
   ]
  },
  {
   "cell_type": "markdown",
   "id": "108b03b4",
   "metadata": {},
   "source": [
    "### formatted string"
   ]
  },
  {
   "cell_type": "code",
   "execution_count": 10,
   "id": "58c94d7b",
   "metadata": {},
   "outputs": [
    {
     "name": "stdout",
     "output_type": "stream",
     "text": [
      "the model accuracy is 0.83333\n"
     ]
    }
   ],
   "source": [
    "name = \"Adil\" \n",
    "age = 23 \n",
    "height = 5.1123445\n",
    "\n",
    "info = f\"His name is {name.upper()}. He is {age} years old. He is {height:.3} feet tall.\\n\"\n",
    "\n",
    "\n",
    "\n",
    "model_accuracy = 0.83333 \n",
    "\n",
    "print(f\"the model accuracy is {model_accuracy}\")"
   ]
  }
 ],
 "metadata": {
  "kernelspec": {
   "display_name": "Python 3",
   "language": "python",
   "name": "python3"
  },
  "language_info": {
   "codemirror_mode": {
    "name": "ipython",
    "version": 3
   },
   "file_extension": ".py",
   "mimetype": "text/x-python",
   "name": "python",
   "nbconvert_exporter": "python",
   "pygments_lexer": "ipython3",
   "version": "3.13.7"
  }
 },
 "nbformat": 4,
 "nbformat_minor": 5
}

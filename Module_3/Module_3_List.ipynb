{
 "cells": [
  {
   "cell_type": "code",
   "execution_count": 2,
   "id": "a3f77451",
   "metadata": {},
   "outputs": [],
   "source": [
    "## declaration \n",
    "numbers = [100,20,30,40,50,100,100] # int \n",
    "float_numbers = [10.20,3.15,2.4,2.7,3.5] # float \n",
    "fruits = ['apple', 'orange' , 'lichi'] # string \n",
    "mix = [10 , 10.20 , 'apple'] # mixed list\n",
    "\n",
    "list_er_moddhe_list =[ [100,20,30] , [14,12,31] , [13,12,12] ]"
   ]
  },
  {
   "cell_type": "code",
   "execution_count": 3,
   "id": "9074090b",
   "metadata": {},
   "outputs": [
    {
     "name": "stdout",
     "output_type": "stream",
     "text": [
      "30\n",
      "90\n",
      "[100, 20, 90]\n"
     ]
    }
   ],
   "source": [
    "## access \n",
    "\n",
    "print(numbers[2])\n",
    "\n",
    "numbers[2] = 90\n",
    "\n",
    "print(numbers[2])\n",
    "\n",
    "new_list = numbers[0:3]\n",
    "\n",
    "print(new_list)"
   ]
  },
  {
   "cell_type": "code",
   "execution_count": 4,
   "id": "43ed1fb3",
   "metadata": {},
   "outputs": [
    {
     "name": "stdout",
     "output_type": "stream",
     "text": [
      "[100, 20, 90, 40, 50, 100, 100, 80]\n",
      "[45, 100, 20, 90, 40, 50, 100, 100, 80]\n",
      "[45, 100, 20, 90, 40, 50, 100, 100]\n",
      "[45, 20, 90, 40, 50, 100, 100]\n"
     ]
    }
   ],
   "source": [
    "## modification \n",
    "\n",
    "## adding a item \n",
    "numbers.append(80)\n",
    "print(numbers)\n",
    "\n",
    "\n",
    "## insertion at any position \n",
    "numbers.insert(0,45)\n",
    "print(numbers)\n",
    "\n",
    "\n",
    "## deleting the last value \n",
    "numbers.pop()\n",
    "\n",
    "print(numbers)\n",
    "\n",
    "## deleting a specific values \n",
    "numbers.remove(100)\n",
    "\n",
    "print(numbers)"
   ]
  },
  {
   "cell_type": "code",
   "execution_count": 5,
   "id": "e04df9fc",
   "metadata": {},
   "outputs": [
    {
     "name": "stdout",
     "output_type": "stream",
     "text": [
      "[20, 40, 45, 50, 90, 100, 100]\n",
      "[100, 100, 90, 50, 45, 40, 20]\n"
     ]
    }
   ],
   "source": [
    "numbers.sort()\n",
    "print(numbers)\n",
    "\n",
    "numbers.reverse()\n",
    "print(numbers)"
   ]
  },
  {
   "cell_type": "code",
   "execution_count": 6,
   "id": "ffa7466d",
   "metadata": {},
   "outputs": [
    {
     "name": "stdout",
     "output_type": "stream",
     "text": [
      "[100, 100, 90, 50, 45, 40, 20]\n"
     ]
    }
   ],
   "source": [
    "numbers.sort(reverse=True)\n",
    "\n",
    "print(numbers)"
   ]
  },
  {
   "cell_type": "markdown",
   "id": "8134b550",
   "metadata": {},
   "source": [
    "### List as Stack"
   ]
  },
  {
   "cell_type": "code",
   "execution_count": 7,
   "id": "4cf145f5",
   "metadata": {},
   "outputs": [
    {
     "name": "stdout",
     "output_type": "stream",
     "text": [
      "top element : 5\n",
      "top element : 4\n"
     ]
    }
   ],
   "source": [
    "stack =[]\n",
    "\n",
    "# stack e push\n",
    "stack.append(1)\n",
    "stack.append(2)\n",
    "stack.append(3)\n",
    "stack.append(4)\n",
    "stack.append(5)\n",
    "\n",
    "\n",
    "print(f\"top element : {stack[-1]}\")\n",
    "# removing the top element \n",
    "stack.pop()\n",
    "\n",
    "# top element \n",
    "print(f\"top element : {stack[-1]}\")"
   ]
  },
  {
   "cell_type": "markdown",
   "id": "17f9e110",
   "metadata": {},
   "source": [
    "### List as Queue"
   ]
  },
  {
   "cell_type": "code",
   "execution_count": 8,
   "id": "dd9ae899",
   "metadata": {},
   "outputs": [
    {
     "name": "stdout",
     "output_type": "stream",
     "text": [
      "1\n",
      "front e 2\n",
      "front e 3\n"
     ]
    }
   ],
   "source": [
    "queue = []\n",
    "\n",
    "# insertion\n",
    "queue.append(1)\n",
    "queue.append(2)\n",
    "queue.append(3)\n",
    "queue.append(4)\n",
    "queue.append(5)\n",
    "\n",
    "\n",
    "#remove \n",
    "print(queue.pop(0))\n",
    "\n",
    "\n",
    "# accessing the front element \n",
    "\n",
    "print(f\"front e {queue[0]}\")\n",
    "\n",
    "queue.pop(0)\n",
    "\n",
    "print(f\"front e {queue[0]}\")"
   ]
  },
  {
   "cell_type": "markdown",
   "id": "d92c1b5d",
   "metadata": {},
   "source": [
    "### list comprehension"
   ]
  },
  {
   "cell_type": "code",
   "execution_count": 9,
   "id": "65fc11bf",
   "metadata": {},
   "outputs": [
    {
     "name": "stdout",
     "output_type": "stream",
     "text": [
      "[11, 13, 15, 17, 19, 21, 23, 25, 27, 29, 31, 33, 35, 37, 39, 41, 43, 45, 47, 49, 51, 53, 55, 57, 59, 61, 63, 65, 67, 69, 71, 73, 75, 77, 79, 81, 83, 85, 87, 89, 91, 93, 95, 97, 99, 101, 103, 105, 107, 109]\n"
     ]
    }
   ],
   "source": [
    "even = [] \n",
    "#naive\n",
    "# for i in range(101):\n",
    "#     if i%2==0:\n",
    "#         even.append(i)\n",
    "\n",
    "#print(even)\n",
    "\n",
    "\n",
    "random_list = [x+10 for x in range(1,101) if x%2!=0]\n",
    "\n",
    "print(random_list)"
   ]
  },
  {
   "cell_type": "code",
   "execution_count": 10,
   "id": "8ce1c99b",
   "metadata": {},
   "outputs": [
    {
     "name": "stdout",
     "output_type": "stream",
     "text": [
      "['apple', 'orange', 'lichi']\n"
     ]
    }
   ],
   "source": [
    "fruits = ['APPLE' , 'ORange' , 'liCHi']\n",
    "\n",
    "upper_fruits=[fruit.lower() for fruit in fruits]\n",
    "\n",
    "\n",
    "print(upper_fruits)"
   ]
  }
 ],
 "metadata": {
  "kernelspec": {
   "display_name": "Python 3",
   "language": "python",
   "name": "python3"
  },
  "language_info": {
   "codemirror_mode": {
    "name": "ipython",
    "version": 3
   },
   "file_extension": ".py",
   "mimetype": "text/x-python",
   "name": "python",
   "nbconvert_exporter": "python",
   "pygments_lexer": "ipython3",
   "version": "3.13.7"
  }
 },
 "nbformat": 4,
 "nbformat_minor": 5
}

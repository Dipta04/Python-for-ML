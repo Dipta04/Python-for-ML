{
 "cells": [
  {
   "cell_type": "markdown",
   "id": "fb95408b",
   "metadata": {},
   "source": [
    "## Conditional statements in Python"
   ]
  },
  {
   "cell_type": "code",
   "execution_count": 30,
   "id": "da04c677",
   "metadata": {},
   "outputs": [
    {
     "name": "stdout",
     "output_type": "stream",
     "text": [
      "ghurte jabo\n"
     ]
    }
   ],
   "source": [
    "taka = 1000\n",
    "raining = False \n",
    "\n",
    "## 500 er beshi and jodi brishti na hoi\n",
    "\n",
    "if (taka > 500) and (raining == False) or ():\n",
    "    print(\"ghurte jabo\")\n",
    "else:\n",
    "    print(\"Taka ta save korbo\")"
   ]
  },
  {
   "cell_type": "markdown",
   "id": "876d186e",
   "metadata": {},
   "source": [
    "## Loop in Python"
   ]
  },
  {
   "cell_type": "code",
   "execution_count": 15,
   "id": "0d9a985a",
   "metadata": {},
   "outputs": [
    {
     "name": "stdout",
     "output_type": "stream",
     "text": [
      "1 1\n",
      "1 2\n",
      "1 3\n",
      "1 4\n",
      "2 1\n",
      "2 2\n",
      "2 3\n",
      "2 4\n",
      "3 1\n",
      "3 2\n",
      "3 3\n",
      "3 4\n",
      "4 1\n",
      "4 2\n",
      "4 3\n",
      "4 4\n",
      "5 1\n",
      "5 2\n",
      "5 3\n",
      "5 4\n",
      "6 1\n",
      "6 2\n",
      "6 3\n",
      "6 4\n",
      "7 1\n",
      "7 2\n",
      "7 3\n",
      "7 4\n",
      "8 1\n",
      "8 2\n",
      "8 3\n",
      "8 4\n",
      "9 1\n",
      "9 2\n",
      "9 3\n",
      "9 4\n"
     ]
    }
   ],
   "source": [
    "for i in range(1, 10):\n",
    "    for j in range(1, 5):\n",
    "        print(i, j)"
   ]
  },
  {
   "cell_type": "code",
   "execution_count": 32,
   "id": "5373dafa",
   "metadata": {},
   "outputs": [
    {
     "name": "stdout",
     "output_type": "stream",
     "text": [
      "1 hello world\n",
      "2 hello world\n",
      "3 hello world\n",
      "4 hello world\n",
      "5 hello world\n",
      "6 hello world\n",
      "7 hello world\n",
      "8 hello world\n",
      "9 hello world\n",
      "10\n"
     ]
    }
   ],
   "source": [
    "count = 1\n",
    "\n",
    "while count < 10 : \n",
    "    print(count,\"hello world\")\n",
    "    count= count + 1 \n",
    "\n",
    "print(count)"
   ]
  },
  {
   "cell_type": "code",
   "execution_count": 8,
   "id": "de93c973",
   "metadata": {},
   "outputs": [
    {
     "name": "stdout",
     "output_type": "stream",
     "text": [
      "1 is processing\n",
      "1 is added to the sum\n",
      "2 is processing\n",
      "3 is processing\n",
      "3 is added to the sum\n",
      "4 is processing\n",
      "5 is processing\n",
      "5 is added to the sum\n",
      "6 is processing\n",
      "7 is processing\n",
      "7 is added to the sum\n",
      "8 is processing\n",
      "9 is processing\n",
      "9 is added to the sum\n",
      "10 is processing\n"
     ]
    }
   ],
   "source": [
    "sum = 0\n",
    "\n",
    "for i in range(1, 11):\n",
    "    print(i, \"is processing\")\n",
    "\n",
    "    if i % 2 == 0 :\n",
    "        continue\n",
    "\n",
    "    sum += i\n",
    "    print(i, \"is added to the sum\")"
   ]
  },
  {
   "cell_type": "code",
   "execution_count": null,
   "id": "f44b2e13",
   "metadata": {},
   "outputs": [
    {
     "name": "stdout",
     "output_type": "stream",
     "text": [
      "96\n",
      "97\n",
      "98\n",
      "99\n",
      "100\n"
     ]
    }
   ],
   "source": [
    "accuracy = 95 \n",
    "\n",
    "# for i in range(20):\n",
    "#     accuracy+=1 \n",
    "#     print(accuracy)\n",
    "#     if accuracy == 100 :\n",
    "#         break \n",
    "\n",
    "changed_or_not = True\n",
    "\n",
    "while True: \n",
    "\n",
    "    if changed_or_not == False and accuracy == 100:\n",
    "        break \n",
    "    \n",
    "    if(prev>accuracy):\n",
    "        changed_or_not = False"
   ]
  },
  {
   "cell_type": "markdown",
   "id": "f1cd33e6",
   "metadata": {},
   "source": [
    "## Max and Min problem"
   ]
  },
  {
   "cell_type": "code",
   "execution_count": 33,
   "id": "ca7246fb",
   "metadata": {},
   "outputs": [
    {
     "name": "stdout",
     "output_type": "stream",
     "text": [
      "-1 20\n"
     ]
    }
   ],
   "source": [
    "inp = input()\n",
    "\n",
    "numbers = inp.split()\n",
    "\n",
    "x = int(numbers[0])\n",
    "y = int(numbers[1])\n",
    "z = int(numbers[2])\n",
    "\n",
    "min = x \n",
    "max = x \n",
    "\n",
    "## min\n",
    "if y < min :\n",
    "    min = y \n",
    "if z < min :\n",
    "    min = z \n",
    "\n",
    "\n",
    "## max \n",
    "\n",
    "if y > max :\n",
    "    max = y \n",
    "\n",
    "if z > max :\n",
    "    max = z \n",
    "\n",
    "\n",
    "print(min , max)"
   ]
  },
  {
   "cell_type": "markdown",
   "id": "92a01b5d",
   "metadata": {},
   "source": [
    "## C. Even, Odd, Positive and Negative"
   ]
  },
  {
   "cell_type": "code",
   "execution_count": 16,
   "id": "b02ead42",
   "metadata": {},
   "outputs": [
    {
     "name": "stdout",
     "output_type": "stream",
     "text": [
      "Even: 3\n",
      "Odd: 2\n",
      "Positive: 1\n",
      "Negative: 3\n"
     ]
    }
   ],
   "source": [
    "n = int(input()) \n",
    "\n",
    "inp = input()\n",
    "\n",
    "numbers= inp.split()\n",
    "\n",
    "positive =0 ; negative =0 ; even =0 ; odd =0 \n",
    "\n",
    "\n",
    "for i in range(n):\n",
    "    x = int(numbers[i])\n",
    "    # positive or negative\n",
    "    if x > 0 :\n",
    "        positive+=1 \n",
    "    elif x < 0 :\n",
    "        negative+=1 \n",
    "    \n",
    "    # odd or even\n",
    "    if x % 2 !=0 :\n",
    "        odd+=1 \n",
    "    else:\n",
    "        even+=1 \n",
    "\n",
    "\n",
    "print(\"Even:\",even)\n",
    "print(\"Odd:\",odd)\n",
    "print(\"Positive:\",positive)\n",
    "print(\"Negative:\",negative)"
   ]
  },
  {
   "cell_type": "markdown",
   "id": "76f64815",
   "metadata": {},
   "source": [
    "## Q. Digits"
   ]
  },
  {
   "cell_type": "code",
   "execution_count": null,
   "id": "627e84d2",
   "metadata": {},
   "outputs": [
    {
     "name": "stdout",
     "output_type": "stream",
     "text": [
      "1 2 1 \n",
      "9 3 \n",
      "6 5 4 3 2 1 \n",
      "0 0 2 1 \n"
     ]
    }
   ],
   "source": [
    "t = int(input())\n",
    "\n",
    "for i in range(t):\n",
    "    number = int(input())\n",
    "    if number ==0 :\n",
    "        print(0)\n",
    "        continue\n",
    "    while number > 0 :\n",
    "        print(number%10, end=\" \")\n",
    "        number//=10\n",
    "    print()"
   ]
  }
 ],
 "metadata": {
  "kernelspec": {
   "display_name": "Python 3",
   "language": "python",
   "name": "python3"
  },
  "language_info": {
   "codemirror_mode": {
    "name": "ipython",
    "version": 3
   },
   "file_extension": ".py",
   "mimetype": "text/x-python",
   "name": "python",
   "nbconvert_exporter": "python",
   "pygments_lexer": "ipython3",
   "version": "3.13.7"
  }
 },
 "nbformat": 4,
 "nbformat_minor": 5
}

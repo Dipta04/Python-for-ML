{
 "cells": [
  {
   "cell_type": "markdown",
   "id": "b1ed5226",
   "metadata": {},
   "source": [
    "### Functions"
   ]
  },
  {
   "cell_type": "code",
   "execution_count": 1,
   "id": "9ded0547",
   "metadata": {},
   "outputs": [],
   "source": [
    "def greet():\n",
    "    print(\"hello\")"
   ]
  },
  {
   "cell_type": "code",
   "execution_count": 2,
   "id": "10f7f41e",
   "metadata": {},
   "outputs": [
    {
     "name": "stdout",
     "output_type": "stream",
     "text": [
      "hello\n"
     ]
    }
   ],
   "source": [
    "greet()"
   ]
  },
  {
   "cell_type": "markdown",
   "id": "1706a72f",
   "metadata": {},
   "source": [
    "### function parameters ( Input )"
   ]
  },
  {
   "cell_type": "code",
   "execution_count": 3,
   "id": "568726b7",
   "metadata": {},
   "outputs": [],
   "source": [
    "def greet(user = \"guest\"):\n",
    "    print(f\"hello {user}\")"
   ]
  },
  {
   "cell_type": "code",
   "execution_count": 4,
   "id": "1fd75855",
   "metadata": {},
   "outputs": [
    {
     "name": "stdout",
     "output_type": "stream",
     "text": [
      "hello adil\n"
     ]
    }
   ],
   "source": [
    "greet(\"adil\")"
   ]
  },
  {
   "cell_type": "code",
   "execution_count": 5,
   "id": "6a14fd7f",
   "metadata": {},
   "outputs": [
    {
     "name": "stdout",
     "output_type": "stream",
     "text": [
      "10 20 30\n",
      "540\n",
      "30 10 20\n",
      "1030\n"
     ]
    }
   ],
   "source": [
    "def square_addition(a,b,c):\n",
    "    print(f\"{a} {b} {c}\")\n",
    "    a=a**2 \n",
    "    b= b**2 \n",
    "    return a+b+c \n",
    "#positional argument\n",
    "ans = square_addition(10,20,30) + 10 \n",
    "print(ans) \n",
    "\n",
    "#keyword argument\n",
    "ans = square_addition(b=10,c=20,a=30) + 10 \n",
    "print(ans) "
   ]
  },
  {
   "cell_type": "code",
   "execution_count": 6,
   "id": "df130751",
   "metadata": {},
   "outputs": [],
   "source": [
    "def square_addition(*args):\n",
    "    summation =0 \n",
    "    for i in args:\n",
    "        i = i**2 \n",
    "        summation+=i\n",
    "    return summation     "
   ]
  },
  {
   "cell_type": "code",
   "execution_count": 7,
   "id": "b787ca47",
   "metadata": {},
   "outputs": [
    {
     "name": "stdout",
     "output_type": "stream",
     "text": [
      "5500\n"
     ]
    }
   ],
   "source": [
    "ans = square_addition(10,20,30,40,50)\n",
    "print(ans)"
   ]
  },
  {
   "cell_type": "code",
   "execution_count": 8,
   "id": "a58c85f1",
   "metadata": {},
   "outputs": [],
   "source": [
    "def student(**kwargs): \n",
    "    for key,val in kwargs.items():\n",
    "        print(f\"{key} : {val}\")"
   ]
  },
  {
   "cell_type": "code",
   "execution_count": 9,
   "id": "d9e573f8",
   "metadata": {},
   "outputs": [
    {
     "name": "stdout",
     "output_type": "stream",
     "text": [
      "name : adil\n",
      "cls : 10\n",
      "roll : 30\n",
      "marks : 30.5\n"
     ]
    }
   ],
   "source": [
    "student(name = \"adil\" , cls =10 , roll=30 , marks = 30.5) "
   ]
  },
  {
   "cell_type": "markdown",
   "id": "23b4a126",
   "metadata": {},
   "source": [
    "### return"
   ]
  },
  {
   "cell_type": "code",
   "execution_count": 10,
   "id": "3b8f7a01",
   "metadata": {},
   "outputs": [
    {
     "data": {
      "text/plain": [
       "int"
      ]
     },
     "execution_count": 10,
     "metadata": {},
     "output_type": "execute_result"
    }
   ],
   "source": [
    "def give_prediction():\n",
    "    return 10 \n",
    "\n",
    "type(give_prediction())"
   ]
  },
  {
   "cell_type": "code",
   "execution_count": 11,
   "id": "9adccc71",
   "metadata": {},
   "outputs": [
    {
     "data": {
      "text/plain": [
       "float"
      ]
     },
     "execution_count": 11,
     "metadata": {},
     "output_type": "execute_result"
    }
   ],
   "source": [
    "def give_prediction():\n",
    "    return 10.5 \n",
    "\n",
    "type(give_prediction())"
   ]
  },
  {
   "cell_type": "code",
   "execution_count": 12,
   "id": "5170f628",
   "metadata": {},
   "outputs": [
    {
     "data": {
      "text/plain": [
       "str"
      ]
     },
     "execution_count": 12,
     "metadata": {},
     "output_type": "execute_result"
    }
   ],
   "source": [
    "def give_prediction():\n",
    "    return \"name\" \n",
    "\n",
    "type(give_prediction())"
   ]
  },
  {
   "cell_type": "code",
   "execution_count": 13,
   "id": "22f08937",
   "metadata": {},
   "outputs": [
    {
     "name": "stdout",
     "output_type": "stream",
     "text": [
      "(10, 30)\n",
      "10 30\n"
     ]
    }
   ],
   "source": [
    "def give_prediction(a,b):\n",
    "\n",
    "    return a,b \n",
    "\n",
    "type(give_prediction(10,30))\n",
    "\n",
    "print(give_prediction(10,30))\n",
    "\n",
    "## unpacking \n",
    "\n",
    "x , y = give_prediction(10,30)\n",
    "\n",
    "print(x,y)\n"
   ]
  },
  {
   "cell_type": "code",
   "execution_count": 14,
   "id": "33abd59d",
   "metadata": {},
   "outputs": [
    {
     "name": "stdout",
     "output_type": "stream",
     "text": [
      "[10, 20, 30]\n",
      "[20, 30, 40]\n"
     ]
    }
   ],
   "source": [
    "def give_prediction():\n",
    "\n",
    "    a= [10,20,30]\n",
    "    b= [20,30,40]\n",
    "    return a,b \n",
    "\n",
    "type(give_prediction())\n",
    "\n",
    "## unpacking \n",
    "x , y = give_prediction()\n",
    "\n",
    "print(x)\n",
    "print(y)"
   ]
  },
  {
   "cell_type": "code",
   "execution_count": 15,
   "id": "cb8fa304",
   "metadata": {},
   "outputs": [
    {
     "name": "stdout",
     "output_type": "stream",
     "text": [
      "<class 'tuple'>\n",
      "{10, 20, 30}\n",
      "[100, 200, 300]\n"
     ]
    }
   ],
   "source": [
    "def give_prediction():\n",
    "\n",
    "    a= {10,20,30}\n",
    "    b = [100,200,300]\n",
    "    return a,b \n",
    "\n",
    "x = give_prediction()\n",
    "\n",
    "print(type(x))\n",
    "\n",
    "for item in x:\n",
    "    print(item) "
   ]
  },
  {
   "cell_type": "code",
   "execution_count": 16,
   "id": "3bd1a6c7",
   "metadata": {},
   "outputs": [
    {
     "name": "stdout",
     "output_type": "stream",
     "text": [
      "<class 'dict'>\n",
      "('name', 'adil')\n",
      "('addr', 'Ctg')\n"
     ]
    }
   ],
   "source": [
    "def give_prediction():\n",
    "    return { \"name\" : \"adil\" , \"addr\" : \"Ctg\"},{ \"name\" : \"abrar\" , \"addr\" : \"dhaka\"}\n",
    "\n",
    "\n",
    "x,y = give_prediction()\n",
    "\n",
    "print(type(x))\n",
    "\n",
    "\n",
    "for item in x.items():\n",
    "    print(item) \n"
   ]
  },
  {
   "cell_type": "markdown",
   "id": "c6dffc10",
   "metadata": {},
   "source": [
    "### iterator"
   ]
  },
  {
   "cell_type": "code",
   "execution_count": 17,
   "id": "bf9b78c2",
   "metadata": {},
   "outputs": [
    {
     "name": "stdout",
     "output_type": "stream",
     "text": [
      "50\n",
      "20\n",
      "40\n",
      "10\n",
      "30\n",
      "50\n",
      "20\n",
      "40\n",
      "10\n",
      "30\n"
     ]
    }
   ],
   "source": [
    "s = {10 , 20 , 30 , 40 , 50 }\n",
    "\n",
    "s_iter = iter(s) \n",
    "print(next(s_iter))\n",
    "print(next(s_iter))\n",
    "print(next(s_iter))\n",
    "print(next(s_iter))\n",
    "print(next(s_iter))\n",
    "\n",
    "for i in s:\n",
    "    print(i) "
   ]
  },
  {
   "cell_type": "markdown",
   "id": "be12d031",
   "metadata": {},
   "source": [
    "### generator"
   ]
  },
  {
   "cell_type": "code",
   "execution_count": 18,
   "id": "4f38d93c",
   "metadata": {},
   "outputs": [
    {
     "name": "stdout",
     "output_type": "stream",
     "text": [
      "[0, 1, 2, 3, 4]\n",
      "[5, 6, 7, 8, 9]\n"
     ]
    }
   ],
   "source": [
    "lst = [ x for x in range(500) ] # dataset \n",
    "\n",
    "def data_loader(chunk_size,lst):\n",
    "    for i in range(0,len(lst),chunk_size):\n",
    "        yield lst[i:i+chunk_size]\n",
    "\n",
    "\n",
    "x = data_loader(5,lst) \n",
    "\n",
    "print(next(x))\n",
    "print(next(x))"
   ]
  },
  {
   "cell_type": "markdown",
   "id": "6f408125",
   "metadata": {},
   "source": [
    "### Lambda function"
   ]
  },
  {
   "cell_type": "code",
   "execution_count": 19,
   "id": "5a14dd96",
   "metadata": {},
   "outputs": [
    {
     "name": "stdout",
     "output_type": "stream",
     "text": [
      "13\n"
     ]
    }
   ],
   "source": [
    "def square_addition(x,y):\n",
    "    return x**2 + y**2 \n",
    "\n",
    "\n",
    "sq_add = lambda x,y : x**2 + y**2 \n",
    "\n",
    "print( sq_add(2,3))"
   ]
  },
  {
   "cell_type": "markdown",
   "id": "4469b269",
   "metadata": {},
   "source": [
    "### map"
   ]
  },
  {
   "cell_type": "code",
   "execution_count": 20,
   "id": "52997879",
   "metadata": {},
   "outputs": [
    {
     "name": "stdout",
     "output_type": "stream",
     "text": [
      "[1, 4, 9, 16, 25, 36]\n"
     ]
    }
   ],
   "source": [
    "lst = [ 1 ,2 ,3 ,4 ,5 ,6 ]\n",
    "\n",
    "def square(x):\n",
    "    return x**2 \n",
    "\n",
    "lst = list(map(square ,lst))\n",
    "\n",
    "print(lst)"
   ]
  },
  {
   "cell_type": "code",
   "execution_count": 21,
   "id": "c8b3156c",
   "metadata": {},
   "outputs": [
    {
     "name": "stdout",
     "output_type": "stream",
     "text": [
      "['H', 'E', 'L', 'L', 'O', ' ', 'W', 'O', 'R', 'L', 'D', ',', ' ', 'W', 'E', 'L', 'C', 'O', 'M', 'E', ' ', 'T', 'O', ' ', 'T', 'H', 'E', ' ', 'A', 'G', 'E', ' ', 'O', 'F', ' ', 'A', 'I']\n",
      "H E L L O   W O R L D ,   W E L C O M E   T O   T H E   A G E   O F   A I\n"
     ]
    }
   ],
   "source": [
    "# string \n",
    "\n",
    "string = \"hello world, welcome to the age of AI\"\n",
    "string1 = list(map(str.upper , string))\n",
    "print(string1)\n",
    "string1 = \" \".join(string1)\n",
    "print(string1)"
   ]
  },
  {
   "cell_type": "code",
   "execution_count": 22,
   "id": "4acf5567",
   "metadata": {},
   "outputs": [
    {
     "name": "stdout",
     "output_type": "stream",
     "text": [
      "[1, 4, 9, 16, 25, 36]\n"
     ]
    }
   ],
   "source": [
    "# map with lambda function \n",
    "lst = [ 1 ,2 ,3 ,4 ,5 ,6 ]\n",
    "\n",
    "lst = list(map(lambda x : x**2,lst))\n",
    "\n",
    "print(lst)"
   ]
  },
  {
   "cell_type": "markdown",
   "id": "743a500f",
   "metadata": {},
   "source": [
    "### filter"
   ]
  },
  {
   "cell_type": "code",
   "execution_count": 23,
   "id": "a5aec027",
   "metadata": {},
   "outputs": [
    {
     "name": "stdout",
     "output_type": "stream",
     "text": [
      "[51, 52, 53, 54, 55, 56, 57, 58, 59, 60, 61, 62, 63, 64, 65, 66, 67, 68, 69, 70, 71, 72, 73, 74, 75, 76, 77, 78, 79, 80, 81, 82, 83, 84, 85, 86, 87, 88, 89, 90, 91, 92, 93, 94, 95, 96, 97, 98, 99]\n"
     ]
    }
   ],
   "source": [
    "numbers = [x for x in range(100)]\n",
    "\n",
    "\n",
    "# even \n",
    "\n",
    "even = list(filter( lambda x : x % 2 ==0,numbers))\n",
    "\n",
    "#print(even)\n",
    "\n",
    "\n",
    "\n",
    "fifty_upper = list(filter( lambda x : x >50,numbers))\n",
    "\n",
    "print(fifty_upper)"
   ]
  },
  {
   "cell_type": "code",
   "execution_count": 24,
   "id": "3eeefa4e",
   "metadata": {},
   "outputs": [
    {
     "name": "stdout",
     "output_type": "stream",
     "text": [
      "[1, 'Hello', [1, 2], True]\n"
     ]
    }
   ],
   "source": [
    "data = [0, 1, '',None, 'Hello', [], [1, 2], None, True, False, None]\n",
    "\n",
    "cleaned_data = list(filter(None, data))\n",
    "\n",
    "print(cleaned_data) "
   ]
  },
  {
   "cell_type": "code",
   "execution_count": 25,
   "id": "ce0a8f39",
   "metadata": {},
   "outputs": [
    {
     "name": "stdout",
     "output_type": "stream",
     "text": [
      "['E', 'O', 'O', 'E', 'O', 'E', 'O', 'E', 'A', 'E', 'O', 'A', 'I']\n"
     ]
    }
   ],
   "source": [
    "# string \n",
    "\n",
    "vowel_ = list(filter( lambda x : x in \"AEIOU\" , string1))\n",
    "\n",
    "print(vowel_)"
   ]
  },
  {
   "cell_type": "code",
   "execution_count": 26,
   "id": "c50584e9",
   "metadata": {},
   "outputs": [
    {
     "name": "stdout",
     "output_type": "stream",
     "text": [
      "['aaa', 'cccc', 'ddddd']\n"
     ]
    }
   ],
   "source": [
    "fruits = [ 'aaa' , 'bb' , 'cccc' , 'ddddd' ]\n",
    "\n",
    "filtering = list(filter(lambda x: len(x)>2 , fruits))\n",
    "\n",
    "print(filtering) "
   ]
  },
  {
   "cell_type": "markdown",
   "id": "da34ec89",
   "metadata": {},
   "source": [
    "### Reduce"
   ]
  },
  {
   "cell_type": "code",
   "execution_count": 27,
   "id": "a1d17978",
   "metadata": {},
   "outputs": [],
   "source": [
    "from functools import reduce"
   ]
  },
  {
   "cell_type": "code",
   "execution_count": 28,
   "id": "73bb6b22",
   "metadata": {},
   "outputs": [
    {
     "name": "stdout",
     "output_type": "stream",
     "text": [
      "21\n"
     ]
    }
   ],
   "source": [
    "lst = [ 1 ,2 ,3 ,4 ,5 ,6 ]\n",
    "\n",
    "summation = reduce(lambda x,y : x+y , lst) \n",
    "\n",
    "print(summation)"
   ]
  },
  {
   "cell_type": "code",
   "execution_count": 29,
   "id": "fd18a7ea",
   "metadata": {},
   "outputs": [
    {
     "name": "stdout",
     "output_type": "stream",
     "text": [
      "10\n"
     ]
    }
   ],
   "source": [
    "lst = [ 1 ,2 ,10,4 ,5 ,6 ]\n",
    "\n",
    "max_value = reduce( lambda x , y :x if x > y else y ,lst) \n",
    "\n",
    "print(max_value) "
   ]
  },
  {
   "cell_type": "code",
   "execution_count": 30,
   "id": "934c1286",
   "metadata": {},
   "outputs": [
    {
     "name": "stdout",
     "output_type": "stream",
     "text": [
      "['hello', 'world', 'welcome', 'to', 'programming']\n"
     ]
    }
   ],
   "source": [
    "lst = [ \"hello\", \"world\" , \"welcome\" ,\"to\", \"programming\"]\n",
    "print(lst)"
   ]
  },
  {
   "cell_type": "code",
   "execution_count": 31,
   "id": "a1e5cebf",
   "metadata": {},
   "outputs": [
    {
     "name": "stdout",
     "output_type": "stream",
     "text": [
      "hello world welcome to programming\n"
     ]
    }
   ],
   "source": [
    "string = reduce(lambda x,y : x+ \" \" + y ,lst) \n",
    "print(string)"
   ]
  }
 ],
 "metadata": {
  "kernelspec": {
   "display_name": "Python 3",
   "language": "python",
   "name": "python3"
  },
  "language_info": {
   "codemirror_mode": {
    "name": "ipython",
    "version": 3
   },
   "file_extension": ".py",
   "mimetype": "text/x-python",
   "name": "python",
   "nbconvert_exporter": "python",
   "pygments_lexer": "ipython3",
   "version": "3.13.7"
  }
 },
 "nbformat": 4,
 "nbformat_minor": 5
}
